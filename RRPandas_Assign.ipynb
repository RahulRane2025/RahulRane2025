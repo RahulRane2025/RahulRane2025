{
  "nbformat": 4,
  "nbformat_minor": 0,
  "metadata": {
    "colab": {
      "provenance": []
    },
    "kernelspec": {
      "name": "python3",
      "display_name": "Python 3"
    },
    "language_info": {
      "name": "python"
    }
  },
  "cells": [
    {
      "cell_type": "code",
      "execution_count": null,
      "metadata": {
        "colab": {
          "base_uri": "https://localhost:8080/"
        },
        "id": "QJaavR0EVyO5",
        "outputId": "809f909a-7f71-4747-a45c-fe471d3c3ede"
      },
      "outputs": [
        {
          "output_type": "stream",
          "name": "stdout",
          "text": [
            "************************************\n",
            "\tFirst 5 Rows: DataFrame:\n",
            "************************************\n",
            "      Name  Age Department  Salary\n",
            "0    Alice   24         HR   45000\n",
            "1      Bob   27    Finance   54000\n",
            "2  Charlie   22         IT   50000\n",
            "3    Diana   32  Marketing   62000\n",
            "4      Eve   29         HR   47000\n",
            "********************************************\n",
            "Summary statistics of Age & Salary:\n",
            "********************************************\n",
            "             Age        Salary\n",
            "count   5.000000      5.000000\n",
            "mean   26.800000  51600.000000\n",
            "std     3.962323   6730.527468\n",
            "min    22.000000  45000.000000\n",
            "25%    24.000000  47000.000000\n",
            "50%    27.000000  50000.000000\n",
            "75%    29.000000  54000.000000\n",
            "max    32.000000  62000.000000\n",
            "\n",
            "Employees Age Between 25 & 30:\n",
            "!!=================================!!\n",
            "  Name  Age Department  Salary   Bonus\n",
            "1  Bob   27    Finance   54000  5400.0\n",
            "4  Eve   29         HR   47000  4700.0\n",
            "!!=================================!!\n",
            "!!=============================!!\n",
            "\n",
            "Average Salary By Dept.:\n",
            "!!=============================!!\n",
            "Department\n",
            "Finance      54000.0\n",
            "HR           46000.0\n",
            "IT           50000.0\n",
            "Marketing    62000.0\n",
            "Name: Salary, dtype: float64\n",
            "\n",
            "!!====================================================!!\n",
            "\n",
            "Data sorted by salary and saved to 'sorted_employees.csv'\n",
            "\n",
            "!!====================================================!!\n"
          ]
        }
      ],
      "source": [
        "import pandas as pd\n",
        "\n",
        "# DataFrame with  Given Data\n",
        "data = {\n",
        "    \"Name\": [\"Alice\", \"Bob\", \"Charlie\", \"Diana\", \"Eve\"],\n",
        "    \"Age\": [24, 27, 22, 32, 29],\n",
        "    \"Department\": [\"HR\", \"Finance\", \"IT\", \"Marketing\", \"HR\"],\n",
        "    \"Salary\": [45000, 54000, 50000, 62000, 47000]\n",
        "}\n",
        "df = pd.DataFrame(data)\n",
        "\n",
        "# First 5 Rows DataFrame\n",
        "f_5_rows = df.head()\n",
        "print(\"************************************\")\n",
        "print(\"\\tFirst 5 Rows: DataFrame:\")\n",
        "print(\"************************************\")\n",
        "print(f_5_rows)\n",
        "# Summary Statistics: Age & Salary col\n",
        "#s_sta=summary_statistics\n",
        "s_sta = df[[\"Age\", \"Salary\"]].describe()\n",
        "print(\"********************************************\")\n",
        "print(\"Summary statistics of Age & Salary:\")\n",
        "print(\"********************************************\")\n",
        "print(s_sta)\n",
        "\n",
        "#Calculate  Avg Sal: Employees in \"HR\" Dept. & add Bonus col(10% of Salary)\n",
        "Avg_Sal_hr = df[df[\"Department\"]==\"HR\"][\"Salary\"].mean()\n",
        "df['Bonus'] = df[\"Salary\"] * 0.10\n",
        "\n",
        "# Filter DataFrame to Show Employees Age between 25 & 30\n",
        "Filtered_By_Age = df[(df[\"Age\"] >= 25) & (df[\"Age\"] <= 30)]\n",
        "print(\"\\nEmployees Age Between 25 & 30:\")\n",
        "print(\"!!=================================!!\")\n",
        "print(Filtered_By_Age)\n",
        "print(\"!!=================================!!\")\n",
        "\n",
        "# Group Data: By Department & Calculate Avg Sal for every Dept.\n",
        "Avg_Sal_By_Dept = df.groupby(\"Department\")[\"Salary\"].mean()\n",
        "print(\"!!=============================!!\\n\")\n",
        "print(\"Average Salary By Dept.:\")\n",
        "print(\"!!=============================!!\")\n",
        "print(Avg_Sal_By_Dept)\n",
        "\n",
        "# Sort: DataFrame By Salary : ASC order & Result in new CSV file\n",
        "Sorted_Df = df.sort_values(by=\"Salary\", ascending=True)\n",
        "Sorted_Df.to_csv(\"Sorted_Employees.csv\", index=False)\n",
        "print(\"\\n!!====================================================!!\\n\")\n",
        "print(\"Data sorted by salary and saved to 'sorted_employees.csv'\")\n",
        "print(\"\\n!!====================================================!!\")"
      ]
    }
  ]
}