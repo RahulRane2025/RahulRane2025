{
  "nbformat": 4,
  "nbformat_minor": 0,
  "metadata": {
    "colab": {
      "provenance": []
    },
    "kernelspec": {
      "name": "python3",
      "display_name": "Python 3"
    },
    "language_info": {
      "name": "python"
    }
  },
  "cells": [
    {
      "cell_type": "code",
      "execution_count": null,
      "metadata": {
        "id": "QgvlLVkf59lz"
      },
      "outputs": [],
      "source": []
    },
    {
      "cell_type": "code",
      "source": [
        "import pandas as pd\n",
        "\n",
        "# Create the DataFrame with the given data\n",
        "data = {\n",
        "    'Name': ['Alice', 'Bob', 'Charlie', 'Diana', 'Eve'],\n",
        "    'Age': [24, 27, 22, 32, 29],\n",
        "    'Department': ['HR', 'Finance', 'IT', 'Marketing', 'HR'],\n",
        "    'Salary': [45000, 54000, 50000, 62000, 47000]\n",
        "}\n",
        "\n",
        "df = pd.DataFrame(data)\n",
        "\n",
        "# a. Print the first five rows of the DataFrame\n",
        "first_five_rows = df.head()\n",
        "print(\"First Five rows of the DataFrame:\")\n",
        "print(first_five_rows)\n",
        "\n",
        "# b. Get the summary statistics of the 'Age' and 'Salary' columns\n",
        "summary_statistics = df[['Age', 'Salary']].describe()\n",
        "print(\"\\nSummary statistics of 'Age' and 'Salary':\")\n",
        "print(summary_statistics)\n",
        "\n",
        "# c. Calculate the average salary of employees in the 'HR' department and add 'Bonus' column (10% of salary)\n",
        "average_salary_hr = df[df['Department'] == 'HR']['Salary'].mean()\n",
        "df['Bonus'] = df['Salary'] * 0.10\n",
        "\n",
        "# 3. Filter the DataFrame to show employees aged between 25 and 30\n",
        "filtered_by_age = df[(df['Age'] >= 25) & (df['Age'] <= 30)]\n",
        "print(\"\\nEmployees aged between 25 and 30:\")\n",
        "print(filtered_by_age)\n",
        "\n",
        "# 4. Group the data by 'Department' and calculate the average salary for each department\n",
        "avg_salary_by_dept = df.groupby('Department')['Salary'].mean()\n",
        "print(\"\\nAverage salary by department:\")\n",
        "print(avg_salary_by_dept)\n",
        "\n",
        "# 5. Sort the DataFrame by 'Salary' in ascending order and save the result to a new CSV file\n",
        "sorted_df = df.sort_values(by='Salary', ascending=True)\n",
        "sorted_df.to_csv('sorted_employees.csv', index=False)\n",
        "print(\"\\nData sorted by salary and saved to 'sorted_employees.csv'\")\n"
      ],
      "metadata": {
        "colab": {
          "base_uri": "https://localhost:8080/"
        },
        "id": "TEWgVruR5-TV",
        "outputId": "7c31be91-2cac-45e6-9b4b-6fec08c40c5c"
      },
      "execution_count": 1,
      "outputs": [
        {
          "output_type": "stream",
          "name": "stdout",
          "text": [
            "First Five rows of the DataFrame:\n",
            "      Name  Age Department  Salary\n",
            "0    Alice   24         HR   45000\n",
            "1      Bob   27    Finance   54000\n",
            "2  Charlie   22         IT   50000\n",
            "3    Diana   32  Marketing   62000\n",
            "4      Eve   29         HR   47000\n",
            "\n",
            "Summary statistics of 'Age' and 'Salary':\n",
            "             Age        Salary\n",
            "count   5.000000      5.000000\n",
            "mean   26.800000  51600.000000\n",
            "std     3.962323   6730.527468\n",
            "min    22.000000  45000.000000\n",
            "25%    24.000000  47000.000000\n",
            "50%    27.000000  50000.000000\n",
            "75%    29.000000  54000.000000\n",
            "max    32.000000  62000.000000\n",
            "\n",
            "Employees aged between 25 and 30:\n",
            "  Name  Age Department  Salary   Bonus\n",
            "1  Bob   27    Finance   54000  5400.0\n",
            "4  Eve   29         HR   47000  4700.0\n",
            "\n",
            "Average salary by department:\n",
            "Department\n",
            "Finance      54000.0\n",
            "HR           46000.0\n",
            "IT           50000.0\n",
            "Marketing    62000.0\n",
            "Name: Salary, dtype: float64\n",
            "\n",
            "Data sorted by salary and saved to 'sorted_employees.csv'\n"
          ]
        }
      ]
    }
  ]
}